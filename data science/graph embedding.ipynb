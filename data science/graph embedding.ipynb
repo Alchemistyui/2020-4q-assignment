{
 "cells": [
  {
   "cell_type": "code",
   "execution_count": 53,
   "metadata": {},
   "outputs": [
    {
     "name": "stdout",
     "output_type": "stream",
     "text": [
      "[[0 0 1 0 0]\n",
      " [0 0 0 0 1]\n",
      " [1 0 0 1 0]\n",
      " [0 0 1 0 0]\n",
      " [0 1 0 0 0]]\n"
     ]
    },
    {
     "name": "stderr",
     "output_type": "stream",
     "text": [
      "/Users/Alchemist/opt/anaconda3/lib/python3.7/site-packages/sklearn/manifold/spectral_embedding_.py:235: UserWarning: Graph is not fully connected, spectral embedding may not work as expected.\n",
      "  warnings.warn(\"Graph is not fully connected, spectral embedding\"\n"
     ]
    },
    {
     "data": {
      "text/plain": [
       "array([[0.49604346],\n",
       "       [0.08877938],\n",
       "       [0.49604346],\n",
       "       [0.49604346],\n",
       "       [0.08877938]])"
      ]
     },
     "execution_count": 53,
     "metadata": {},
     "output_type": "execute_result"
    }
   ],
   "source": [
    "from sklearn.manifold import SpectralEmbedding\n",
    "import numpy as np\n",
    "\n",
    "w1=np.array([[0,0,1,0,0],[0,0,0,0,1],[1,0,0,1,0],[0,0,1,0,0],[0,1,0,0,0]])\n",
    "embedder = SpectralEmbedding(n_components=1, affinity='precomputed', n_neighbors = 1)\n",
    "Xge = embedder.fit_transform(w1)\n",
    "print(embedder.affinity_matrix_)\n",
    "Xge"
   ]
  },
  {
   "cell_type": "code",
   "execution_count": 55,
   "metadata": {},
   "outputs": [
    {
     "name": "stdout",
     "output_type": "stream",
     "text": [
      "[[0 1 1 1 1]\n",
      " [1 0 0 0 1]\n",
      " [1 0 0 1 0]\n",
      " [1 0 1 0 0]\n",
      " [1 1 0 0 0]]\n"
     ]
    },
    {
     "data": {
      "text/plain": [
       "array([[ 1.34355356e-16],\n",
       "       [-3.53553391e-01],\n",
       "       [ 3.53553391e-01],\n",
       "       [ 3.53553391e-01],\n",
       "       [-3.53553391e-01]])"
      ]
     },
     "execution_count": 55,
     "metadata": {},
     "output_type": "execute_result"
    }
   ],
   "source": [
    "w2 = np.array([[0,1,1,1,1],[1,0,0,0,1],[1,0,0,1,0],[1,0,1,0,0],[1,1,0,0,0]])\n",
    "embedder2 = SpectralEmbedding(n_components=1, affinity='precomputed', n_neighbors = 2)\n",
    "Xge2 = embedder2.fit_transform(w2)\n",
    "print(embedder2.affinity_matrix_)\n",
    "Xge2"
   ]
  },
  {
   "cell_type": "code",
   "execution_count": 60,
   "metadata": {},
   "outputs": [
    {
     "name": "stdout",
     "output_type": "stream",
     "text": [
      "  (0, 0)\t1.0\n",
      "  (0, 3)\t0.5\n",
      "  (1, 1)\t1.0\n",
      "  (2, 2)\t1.0\n",
      "  (3, 0)\t0.5\n",
      "  (4, 4)\t1.0\n"
     ]
    },
    {
     "name": "stderr",
     "output_type": "stream",
     "text": [
      "/Users/Alchemist/opt/anaconda3/lib/python3.7/site-packages/sklearn/manifold/spectral_embedding_.py:235: UserWarning: Graph is not fully connected, spectral embedding may not work as expected.\n",
      "  warnings.warn(\"Graph is not fully connected, spectral embedding\"\n"
     ]
    },
    {
     "data": {
      "text/plain": [
       "array([[0.        ],\n",
       "       [0.8398718 ],\n",
       "       [0.53741642],\n",
       "       [0.        ],\n",
       "       [0.07615087]])"
      ]
     },
     "execution_count": 60,
     "metadata": {},
     "output_type": "execute_result"
    }
   ],
   "source": []
  },
  {
   "cell_type": "code",
   "execution_count": null,
   "metadata": {},
   "outputs": [],
   "source": []
  }
 ],
 "metadata": {
  "kernelspec": {
   "display_name": "Python 3",
   "language": "python",
   "name": "python3"
  },
  "language_info": {
   "codemirror_mode": {
    "name": "ipython",
    "version": 3
   },
   "file_extension": ".py",
   "mimetype": "text/x-python",
   "name": "python",
   "nbconvert_exporter": "python",
   "pygments_lexer": "ipython3",
   "version": "3.7.4"
  }
 },
 "nbformat": 4,
 "nbformat_minor": 2
}
