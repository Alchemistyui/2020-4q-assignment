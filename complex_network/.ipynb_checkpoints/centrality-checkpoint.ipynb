{
 "cells": [
  {
   "cell_type": "code",
   "execution_count": 2,
   "metadata": {},
   "outputs": [
    {
     "name": "stdout",
     "output_type": "stream",
     "text": [
      "     degree centrality: 0.10, 0.10, 0.40, 0.30, 0.20, 0.20, 0.30, 0.30, 0.30, 0.10, 0.10 biggest: 2\n"
     ]
    },
    {
     "data": {
      "image/png": "[encoded data removed]",
      "text/plain": [
       "<Figure size 360x360 with 1 Axes>"
      ]
     },
     "metadata": {},
     "output_type": "display_data"
    }
   ],
   "source": [
    "import networkx as nx\n",
    "import matplotlib.pyplot as plt\n",
    "import numpy as np\n",
    "#import pprint\n",
    "\n",
    "G = nx.Graph()\n",
    "G.add_nodes_from(range(0,10))\n",
    "G.add_edges_from([(0,2),(1,2),(2,3),(2,4),(3,5),(3,6),(4,6),(5,7),(6,7),(7,8),(8,9),(8,10)])\n",
    "plt.figure(figsize=(5, 5))\n",
    "nx.draw_spring(G, node_size=400, node_color='red', with_labels=True, font_weight='bold')\n",
    "#A = nx.adjacency_matrix(G).todense()\n",
    "#A = np.array(A, dtype = np.float64)\n",
    "#print(\"degree centrality:\",list(nx.degree_centrality(G).values()))\n",
    "v = list(nx.degree_centrality(G).values())\n",
    "s = (\"     degree centrality: \"+', '.join(['%.2f']*len(v))) % tuple(v)\n",
    "print(s, \"biggest:\", np.argmax(v))"
   ]
  },
  {
   "cell_type": "code",
   "execution_count": 3,
   "metadata": {},
   "outputs": [
    {
     "name": "stdout",
     "output_type": "stream",
     "text": [
      "     betweenness centrality: 0.00, 0.00, 0.40, 0.30, 0.12, 0.13, 0.34, 0.49, 0.38, 0.00, 0.00 biggest: 7\n"
     ]
    }
   ],
   "source": [
    "v = list(nx.betweenness_centrality(G).values())\n",
    "s = (\"     betweenness centrality: \"+', '.join(['%.2f']*len(v))) % tuple(v)\n",
    "print(s, \"biggest:\", np.argmax(v))"
   ]
  },
  {
   "cell_type": "code",
   "execution_count": 4,
   "metadata": {},
   "outputs": [
    {
     "name": "stdout",
     "output_type": "stream",
     "text": [
      "     closeness centrality: 0.29, 0.29, 0.40, 0.45, 0.42, 0.43, 0.48, 0.45, 0.37, 0.28, 0.28 biggest: 6\n"
     ]
    }
   ],
   "source": [
    "v = list(nx.closeness_centrality(G).values())\n",
    "s = (\"     closeness centrality: \"+', '.join(['%.2f']*len(v))) % tuple(v)\n",
    "print(s, \"biggest:\", np.argmax(v))"
   ]
  },
  {
   "cell_type": "code",
   "execution_count": 5,
   "metadata": {},
   "outputs": [
    {
     "name": "stdout",
     "output_type": "stream",
     "text": [
      "     eigenvector centrality: 0.16, 0.16, 0.42, 0.45, 0.33, 0.31, 0.44, 0.36, 0.20, 0.07, 0.07 biggest: 3\n"
     ]
    }
   ],
   "source": [
    "v = list(nx.eigenvector_centrality(G).values())\n",
    "s = (\"     eigenvector centrality: \"+', '.join(['%.2f']*len(v))) % tuple(v)\n",
    "print(s, \"biggest:\", np.argmax(v))"
   ]
  },
  {
   "cell_type": "code",
   "execution_count": 7,
   "metadata": {},
   "outputs": [
    {
     "name": "stdout",
     "output_type": "stream",
     "text": [
      "     pagerank: 0.05, 0.05, 0.16, 0.11, 0.08, 0.08, 0.11, 0.12, 0.14, 0.05, 0.05 biggest: 2\n"
     ]
    }
   ],
   "source": [
    "v = list(nx.pagerank(G).values())\n",
    "s = (\"     pagerank: \"+', '.join(['%.2f']*len(v))) % tuple(v)\n",
    "print(s, \"biggest:\", np.argmax(v))"
   ]
  },
  {
   "cell_type": "code",
   "execution_count": 6,
   "metadata": {},
   "outputs": [
    {
     "name": "stdout",
     "output_type": "stream",
     "text": [
      "     katz centrality: 0.27, 0.27, 0.35, 0.33, 0.30, 0.30, 0.33, 0.33, 0.32, 0.26, 0.26 biggest: 2\n"
     ]
    }
   ],
   "source": [
    "v = list(nx.katz_centrality(G).values())\n",
    "s = (\"     katz centrality: \"+', '.join(['%.2f']*len(v))) % tuple(v)\n",
    "print(s, \"biggest:\", np.argmax(v))"
   ]
  },
  {
   "cell_type": "code",
   "execution_count": null,
   "metadata": {},
   "outputs": [],
   "source": []
  }
 ],
 "metadata": {
  "kernelspec": {
   "display_name": "Python 3",
   "language": "python",
   "name": "python3"
  },
  "language_info": {
   "codemirror_mode": {
    "name": "ipython",
    "version": 3
   },
   "file_extension": ".py",
   "mimetype": "text/x-python",
   "name": "python",
   "nbconvert_exporter": "python",
   "pygments_lexer": "ipython3",
   "version": "3.7.4"
  }
 },
 "nbformat": 4,
 "nbformat_minor": 2
}
