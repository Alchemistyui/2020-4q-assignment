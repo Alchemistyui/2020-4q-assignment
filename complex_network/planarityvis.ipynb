{
 "cells": [
  {
   "cell_type": "code",
   "execution_count": 5,
   "metadata": {},
   "outputs": [
    {
     "data": {
      "image/png": "[encoded data removed]",
      "text/plain": [
       "<Figure size 432x288 with 2 Axes>"
      ]
     },
     "metadata": {},
     "output_type": "display_data"
    }
   ],
   "source": [
    "import networkx as nx\n",
    "import matplotlib.pyplot as plt\n",
    "from networkx.algorithms import bipartite\n",
    "from networkx.drawing.layout import bipartite_layout\n",
    "\n",
    "G1 = nx.complete_graph(6) # K6\n",
    "G2 = nx.Graph() # K3,3\n",
    "G2.add_nodes_from([0, 1, 2], bipartite=0)\n",
    "G2.add_nodes_from([3, 4, 5], bipartite=1)\n",
    "G2.add_edges_from([(0,3),(0,4),(0,5),(1,3),(1,4),(1,5),(2,3),(2,4),(2,5)])\n",
    "\n",
    "n1 = nx.number_of_nodes(G1)\n",
    "m1 = nx.number_of_edges(G1)\n",
    "n2 = nx.number_of_nodes(G2)\n",
    "m2 = nx.number_of_edges(G2)\n",
    "\n",
    "plt.subplot(121)\n",
    "nx.draw_circular(G1, node_size=300, node_color='red', with_labels=True, font_weight='bold')\n",
    "plt.subplot(122)\n",
    "bottom_nodes, top_nodes = bipartite.sets(G2)\n",
    "pos = bipartite_layout(G2, top_nodes)\n",
    "nx.draw(G2, pos=pos, node_size=300, node_color='red', with_labels=True, font_weight='bold')"
   ]
  },
  {
   "cell_type": "markdown",
   "metadata": {},
   "source": [
    "## Exercise 3-1\n",
    "\n",
    "\n",
    "Degree means the number of edges connected to a node. For $G=(V, E), (|V|=n,|E|=m)$, the average degree of graph G is:\n",
    "\n",
    "$$\n",
    "AD=\\frac{2m}{n}\n",
    "$$\n",
    "\n",
    " \n",
    "\n",
    "\n",
    "\n",
    "The density D of a network is defined as a ratio of the number of edges m to the number of total possible edges in a network with n nodes, so the formula of average degree is: \n",
    "\n",
    "$$\n",
    "D=\\frac{2m}{n(n-1)} = \\frac{2 m}{n} \\times \\frac{1}{n-1} = \\frac{AD}{n-1}\n",
    "$$\n",
    "\n",
    "\n",
    "\n"
   ]
  },
  {
   "cell_type": "markdown",
   "metadata": {},
   "source": [
    "## Exercise 3-2"
   ]
  },
  {
   "cell_type": "code",
   "execution_count": 13,
   "metadata": {},
   "outputs": [
    {
     "name": "stdout",
     "output_type": "stream",
     "text": [
      "K6: #nodes 6, #edges 15, average degree 5, density 1.0.\n",
      "K3,3: #nodes 6, #edges 9, average degree 3, density 0.6.\n"
     ]
    }
   ],
   "source": [
    "def avg_degree(m,n):\n",
    "    return int(2*m/n)\n",
    "\n",
    "def density(m, n):\n",
    "    return avg_degree(m,n)/(n-1)\n",
    "\n",
    "n1 = nx.number_of_nodes(G1)\n",
    "m1 = nx.number_of_edges(G1)\n",
    "print('K6: #nodes {}, #edges {}, average degree {}, density {}.'.format(n1, m1, avg_degree(m1, n1), density(m1, n1)))\n",
    "\n",
    "n2 = nx.number_of_nodes(G2)\n",
    "m2 = nx.number_of_edges(G2)\n",
    "print('K3,3: #nodes {}, #edges {}, average degree {}, density {}.'.format(n2, m2, avg_degree(m2, n2), density(m2, n2)))"
   ]
  },
  {
   "cell_type": "markdown",
   "metadata": {},
   "source": [
    "## $L_3$\n",
    "\n",
    "$L_{r}=\\sum_{i=1}^{n}\\left[\\mathbf{A}^{r}\\right]_{i i}=\\operatorname{Tr} \\mathbf{A}^{r} = \\sum_i k_i^r$ ($k_i$ is the eigenvalue of A)\n"
   ]
  },
  {
   "cell_type": "code",
   "execution_count": 30,
   "metadata": {},
   "outputs": [
    {
     "name": "stdout",
     "output_type": "stream",
     "text": [
      "L3 of G1(K6): 120\n",
      "L3 of G2(K3,3): 0\n"
     ]
    }
   ],
   "source": [
    "import numpy as np\n",
    "\n",
    "def get_eigenvalue(A):\n",
    "    k,_=np.linalg.eig(A)\n",
    "    return k\n",
    "\n",
    "def get_lr(A, r):\n",
    "    return int(np.power(get_eigenvalue(A), 3).sum())\n",
    "\n",
    "A1 = nx.adjacency_matrix(G1).todense()\n",
    "A2 = nx.adjacency_matrix(G2).todense()\n",
    "\n",
    "print(f'L3 of G1(K6): {get_lr(A1, 3)}')\n",
    "print(f'L3 of G2(K3,3): {get_lr(A2, 3)}')"
   ]
  },
  {
   "cell_type": "code",
   "execution_count": 29,
   "metadata": {},
   "outputs": [
    {
     "data": {
      "text/plain": [
       "0"
      ]
     },
     "execution_count": 29,
     "metadata": {},
     "output_type": "execute_result"
    }
   ],
   "source": [
    "x =  get_eigenvalue(A2)\n",
    "int(np.power(x, 3).sum())"
   ]
  },
  {
   "cell_type": "markdown",
   "metadata": {},
   "source": [
    "## Exercise 3-3 & 3-4\n",
    "\n",
    "### $K_{3,3}$ \n",
    "\n",
    "According to [Euler's formula](https://en.wikipedia.org/wiki/Planar_graph#Euler.27s_formula), if a finite, connected, planar graph is drawn in the plane without any edge intersections, and n is the number of vertices, m is the number of edges and f is the number of faces (regions bounded by edges, including the outer, infinitely large region), then $n-m+f=2$.\n",
    "\n",
    "\n",
    "It's obvious that $K_{3,3}$ is bipartite, and it doesn't have odd cycles, so it contains no triangles. Therefore, each face of $K_{3,3}$ must be bounded by at least 4 edges, so $f \\leq 2 m / 4=m / 2=4.5$(every edge is counted twice).\n",
    "\n",
    "For $K_{3,3}$, n=6, m=9, cccording to Euler's formula, assuming $K_{3,3}$ is planar, so f should be: f=9+2-6=5, which is contradict with the above, so $K_{3,3}$ is not planar.\n",
    "\n",
    "### $K_{5}$\n",
    "\n",
    "Say G= (V, E) be a simple connected planar graph, which has n vertices, $m \\geq 3$ edges and r regions. Then we can get $3r \\leq 2m$ and $m \\leq 3n-6$.\n",
    "\n",
    "In $K_{5}$, n = 5 and m= 10,and 3n−6 = 9 &lt; m = 10,which is not true, so $K_{5}$ is not planar.\n",
    "\n",
    "\n",
    "\n",
    "### $K_{6}$\n",
    "According to [Kuratowski's and Wagner's theorems](https://en.wikipedia.org/wiki/Planar_graph#Kuratowski.27s_and_Wagner.27s_theorems), \n",
    "A finite graph is planar if and only if it does not contain a subgraph that is a subdivision of the complete graph $K_5$ or the complete bipartite graph $K_{3,3}$ (utility graph).\n",
    "\n",
    "And we can easily found that K6 has a subgraph $K_5$, so $K_6$ is not planar.(I drew a simple figure to show that, where the green one is $K_{5}$ and the red one is $K_{5}$).\n",
    "\n",
    "\n",
    "<img src=\"k6.jpg\" width=\"40%\">\n",
    "\n"
   ]
  },
  {
   "cell_type": "code",
   "execution_count": null,
   "metadata": {},
   "outputs": [],
   "source": []
  }
 ],
 "metadata": {
  "kernelspec": {
   "display_name": "Python 3",
   "language": "python",
   "name": "python3"
  },
  "language_info": {
   "codemirror_mode": {
    "name": "ipython",
    "version": 3
   },
   "file_extension": ".py",
   "mimetype": "text/x-python",
   "name": "python",
   "nbconvert_exporter": "python",
   "pygments_lexer": "ipython3",
   "version": "3.7.4"
  }
 },
 "nbformat": 4,
 "nbformat_minor": 2
}
