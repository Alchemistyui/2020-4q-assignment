{
 "cells": [
  {
   "cell_type": "markdown",
   "metadata": {},
   "source": [
    "## Quiz 4-1\n",
    "\n",
    "answer:\n",
    "\n",
    "AD_inv: [[0.         0.33333333 0.         0.        ]\n",
    "\n",
    "        \n",
    "$p_0(\\infty)$ = 0.125\n",
    "\n",
    "$p_1(\\infty)$ = 0.375\n",
    "\n",
    "$p_2(\\infty)$ = 0.25\n",
    "\n",
    "$p_3(\\infty)$ = 0.25\n"
   ]
  },
  {
   "cell_type": "code",
   "execution_count": 7,
   "metadata": {},
   "outputs": [
    {
     "name": "stdout",
     "output_type": "stream",
     "text": [
      "[[0. 1. 0. 0.]\n",
      " [1. 0. 1. 1.]\n",
      " [0. 1. 0. 1.]\n",
      " [0. 1. 1. 0.]]\n",
      "[[1. 0. 0. 0.]\n",
      " [0. 3. 0. 0.]\n",
      " [0. 0. 2. 0.]\n",
      " [0. 0. 0. 2.]]\n",
      "[[1.         0.         0.         0.        ]\n",
      " [0.         0.33333333 0.         0.        ]\n",
      " [0.         0.         0.5        0.        ]\n",
      " [0.         0.         0.         0.5       ]]\n"
     ]
    }
   ],
   "source": [
    "\n",
    "import numpy as np\n",
    "A = np.matrix([[0, 1, 0, 0], [1, 0, 1, 1], [0, 1, 0, 1], [0, 1, 1, 0]], dtype=float)\n",
    "print(A)\n",
    "D = np.diag(np.sum(np.array(A), axis=0))\n",
    "print(D)\n",
    "D_inv = np.diag(1 / np.sum(np.array(A), axis=0))\n",
    "print(D_inv)"
   ]
  },
  {
   "cell_type": "markdown",
   "metadata": {},
   "source": [
    "Because the initial start vertex didn't affect the result, so here I suppose the walker start at vertex 1."
   ]
  },
  {
   "cell_type": "code",
   "execution_count": 24,
   "metadata": {},
   "outputs": [
    {
     "name": "stdout",
     "output_type": "stream",
     "text": [
      "AD_inv: [[0.         0.33333333 0.         0.        ]\n",
      " [1.         0.         0.5        0.5       ]\n",
      " [0.         0.33333333 0.         0.5       ]\n",
      " [0.         0.33333333 0.5        0.        ]]\n"
     ]
    },
    {
     "data": {
      "text/plain": [
       "matrix([[0.33333333],\n",
       "        [0.        ],\n",
       "        [0.33333333],\n",
       "        [0.33333333]])"
      ]
     },
     "execution_count": 24,
     "metadata": {},
     "output_type": "execute_result"
    }
   ],
   "source": [
    "import pdb\n",
    "class Random_walk():\n",
    "    def __init__(self):\n",
    "        self.A = np.matrix([[0, 1, 0, 0], [1, 0, 1, 1], [0, 1, 0, 1], [0, 1, 1, 0]], dtype=float)\n",
    "        D = np.diag(np.sum(np.array(A), axis=0))\n",
    "        self.D_inv = np.diag(1 / np.sum(np.array(A), axis=0))\n",
    "       \n",
    "    def compute_ad(self):\n",
    "        \n",
    "        return np.dot(self.A, self.D_inv)\n",
    "\n",
    "    def next_prob(self, AD_inv, p):\n",
    "        return np.dot(AD_inv, p)\n",
    "\n",
    "    def compute_prob(self, t, p_init):\n",
    "        p = p_init\n",
    "        AD_inv = self.compute_ad()\n",
    "        print(f'AD_inv: {AD_inv}')\n",
    "        for i in range(t):\n",
    "            p = self.next_prob(AD_inv, p)\n",
    "        return p\n",
    "\n",
    "walker = Random_walk()\n",
    "walker.compute_prob(2, np.matrix([1,0,0,0]).T)"
   ]
  },
  {
   "cell_type": "code",
   "execution_count": 22,
   "metadata": {},
   "outputs": [
    {
     "data": {
      "text/plain": [
       "matrix([[0.125     ],\n",
       "        [0.37500001],\n",
       "        [0.25      ],\n",
       "        [0.25      ]])"
      ]
     },
     "execution_count": 22,
     "metadata": {},
     "output_type": "execute_result"
    }
   ],
   "source": [
    "walker = Random_walk()\n",
    "walker.compute_prob(59, np.matrix([1,0,0,0]).T)"
   ]
  },
  {
   "cell_type": "code",
   "execution_count": 23,
   "metadata": {},
   "outputs": [
    {
     "data": {
      "text/plain": [
       "matrix([[0.125],\n",
       "        [0.375],\n",
       "        [0.25 ],\n",
       "        [0.25 ]])"
      ]
     },
     "execution_count": 23,
     "metadata": {},
     "output_type": "execute_result"
    }
   ],
   "source": [
    "walker = Random_walk()\n",
    "walker.compute_prob(60, np.matrix([1,0,0,0]).T)"
   ]
  },
  {
   "cell_type": "markdown",
   "metadata": {},
   "source": [
    "walker = Random_walk()\n",
    "walker.compute_prob(100, np.matrix([1,0,0,0]).T)"
   ]
  },
  {
   "cell_type": "code",
   "execution_count": 13,
   "metadata": {},
   "outputs": [
    {
     "data": {
      "text/plain": [
       "matrix([[0.125],\n",
       "        [0.375],\n",
       "        [0.25 ],\n",
       "        [0.25 ]])"
      ]
     },
     "execution_count": 13,
     "metadata": {},
     "output_type": "execute_result"
    }
   ],
   "source": [
    "walker = Random_walk()\n",
    "walker.compute_prob(10000, np.matrix([1,0,0,0]).T)"
   ]
  },
  {
   "cell_type": "markdown",
   "metadata": {},
   "source": [
    "We can easily see that the probability is becoming stable, which means the time increrasing will not hurt the probability."
   ]
  },
  {
   "cell_type": "markdown",
   "metadata": {},
   "source": [
    "## Quiz 4-2\n",
    "\n",
    "answer: 2"
   ]
  },
  {
   "cell_type": "code",
   "execution_count": 42,
   "metadata": {},
   "outputs": [
    {
     "name": "stderr",
     "output_type": "stream",
     "text": [
      "/Users/Alchemist/opt/anaconda3/lib/python3.7/site-packages/networkx/drawing/nx_pylab.py:579: MatplotlibDeprecationWarning: \n",
      "The iterable function was deprecated in Matplotlib 3.1 and will be removed in 3.3. Use np.iterable instead.\n",
      "  if not cb.iterable(width):\n"
     ]
    },
    {
     "data": {
      "image/png": "[encoded data removed]",
      "text/plain": [
       "<Figure size 360x360 with 1 Axes>"
      ]
     },
     "metadata": {},
     "output_type": "display_data"
    }
   ],
   "source": [
    "import networkx as nx\n",
    "import matplotlib.pyplot as plt\n",
    "import numpy as np\n",
    "\n",
    "G = nx.Graph()\n",
    "G.add_nodes_from(range(0,10))\n",
    "G.add_edges_from([(0,2),(1,2),(2,3),(2,4),(3,5),(3,6),(4,6),(5,7),(6,7),(7,8),(8,9),(8,10)])\n",
    "plt.figure(figsize=(5, 5))\n",
    "nx.draw_spring(G, node_size=400, node_color='red', with_labels=True, font_weight='bold')\n",
    "A = nx.adjacency_matrix(G).todense()\n",
    "A = np.array(A, dtype = np.float64)\n",
    "c = np.array([0, 0, 0, 0, 0, 0, 0, 0, 0, 0, 0]) # counter"
   ]
  },
  {
   "cell_type": "code",
   "execution_count": 43,
   "metadata": {},
   "outputs": [
    {
     "data": {
      "text/plain": [
       "(array([1., 1., 0., 1., 1., 0., 0., 0., 0., 0., 0.]), array([0, 1, 3, 4]))"
      ]
     },
     "execution_count": 43,
     "metadata": {},
     "output_type": "execute_result"
    }
   ],
   "source": [
    "A.shape, c.shape\n",
    "len(A)\n",
    "A[2], np.argwhere(A[2]==1).reshape(-1)"
   ]
  },
  {
   "cell_type": "code",
   "execution_count": 67,
   "metadata": {},
   "outputs": [],
   "source": [
    "import random\n",
    "\n",
    "def random_walk(times):\n",
    "#     randomly select an initial vertex\n",
    "    now = random.randint(0, 10)\n",
    "    c[now] += 1\n",
    "    \n",
    "    for i in range(times):\n",
    "        option = np.argwhere(A[now]==1).reshape(-1)\n",
    "        next_v = random.choice(option)\n",
    "        \n",
    "        c[next_v] += 1\n",
    "        now = next_v\n",
    "        \n",
    "    return c.argmax()"
   ]
  },
  {
   "cell_type": "code",
   "execution_count": 68,
   "metadata": {},
   "outputs": [
    {
     "name": "stdout",
     "output_type": "stream",
     "text": [
      "Most visited node: 2\n"
     ]
    }
   ],
   "source": [
    "node = random_walk(1000)\n",
    "print(f'Most visited node: {node}')"
   ]
  },
  {
   "cell_type": "code",
   "execution_count": null,
   "metadata": {},
   "outputs": [],
   "source": []
  }
 ],
 "metadata": {
  "kernelspec": {
   "display_name": "Python 3",
   "language": "python",
   "name": "python3"
  }
 },
 "nbformat": 4,
 "nbformat_minor": 2
}
