{
 "cells": [
  {
   "cell_type": "markdown",
   "metadata": {},
   "source": [
    "cf. gensim: Word2vec embeddings https://radimrehurek.com/gensim/models/word2vec.html\n",
    "\n",
    "a blog of DeepWalk (written in Japanese) https://netres-bigdata.hatenablog.com/entry/2018/07/06/042240"
   ]
  },
  {
   "cell_type": "code",
   "execution_count": 3,
   "metadata": {},
   "outputs": [
    {
     "ename": "ModuleNotFoundError",
     "evalue": "No module named 'gensim'",
     "output_type": "error",
     "traceback": [
      "\u001b[0;31m---------------------------------------------------------------------------\u001b[0m",
      "\u001b[0;31mModuleNotFoundError\u001b[0m                       Traceback (most recent call last)",
      "\u001b[0;32m<ipython-input-3-c588a281acf5>\u001b[0m in \u001b[0;36m<module>\u001b[0;34m\u001b[0m\n\u001b[1;32m      3\u001b[0m \u001b[0;32mimport\u001b[0m \u001b[0mmatplotlib\u001b[0m\u001b[0;34m.\u001b[0m\u001b[0mpyplot\u001b[0m \u001b[0;32mas\u001b[0m \u001b[0mplt\u001b[0m\u001b[0;34m\u001b[0m\u001b[0;34m\u001b[0m\u001b[0m\n\u001b[1;32m      4\u001b[0m \u001b[0;32mimport\u001b[0m \u001b[0mrandom\u001b[0m\u001b[0;34m\u001b[0m\u001b[0;34m\u001b[0m\u001b[0m\n\u001b[0;32m----> 5\u001b[0;31m \u001b[0;32mfrom\u001b[0m \u001b[0mgensim\u001b[0m\u001b[0;34m.\u001b[0m\u001b[0mmodels\u001b[0m \u001b[0;32mimport\u001b[0m \u001b[0mWord2Vec\u001b[0m \u001b[0;32mas\u001b[0m \u001b[0mword2vec\u001b[0m\u001b[0;34m\u001b[0m\u001b[0;34m\u001b[0m\u001b[0m\n\u001b[0m\u001b[1;32m      6\u001b[0m \u001b[0;34m\u001b[0m\u001b[0m\n\u001b[1;32m      7\u001b[0m \u001b[0;32mdef\u001b[0m \u001b[0mmake_random_walks\u001b[0m\u001b[0;34m(\u001b[0m\u001b[0mG\u001b[0m\u001b[0;34m,\u001b[0m \u001b[0mnum_of_walk\u001b[0m\u001b[0;34m,\u001b[0m \u001b[0mlength_of_walk\u001b[0m\u001b[0;34m)\u001b[0m\u001b[0;34m:\u001b[0m\u001b[0;34m\u001b[0m\u001b[0;34m\u001b[0m\u001b[0m\n",
      "\u001b[0;31mModuleNotFoundError\u001b[0m: No module named 'gensim'"
     ]
    }
   ],
   "source": [
    "# embedding of Zachary's karate club network (updated)\n",
    "import networkx as nx\n",
    "import matplotlib.pyplot as plt\n",
    "import random\n",
    "from gensim.models import Word2Vec as word2vec\n",
    "\n",
    "def make_random_walks(G, num_of_walk, length_of_walk):\n",
    "    walks = list()\n",
    "    for i in range(num_of_walk):\n",
    "        node_list = list(G.nodes())\n",
    "    for node in node_list:\n",
    "        current_node = node\n",
    "        walk = list()\n",
    "        walk.append(str(node))\n",
    "        for j in range(length_of_walk):\n",
    "            random.seed() ### inserted\n",
    "            next_node = random.choice(list(G.neighbors(current_node)))\n",
    "            walk.append(str(next_node))\n",
    "            current_node = next_node ### updated\n",
    "        walks.append(walk)\n",
    "        return walks\n",
    "\n",
    "G = nx.karate_club_graph()\n",
    "walks = make_random_walks(G, 100, 20)\n",
    "model = word2vec(walks, min_count=0, size=2, window=5, workers=1)\n",
    "\n",
    "x = list()\n",
    "y = list()\n",
    "node_list = list()\n",
    "colors = list()\n",
    "fig, ax = plt.subplots()\n",
    "for node in G.nodes():\n",
    "    vector = model.wv[str(node)]\n",
    "    x.append(vector[0])\n",
    "    y.append(vector[1])\n",
    "    ax.annotate(str(node), (vector[0], vector[1]))\n",
    "    if G.nodes[node][\"club\"] == \"Officer\":\n",
    "        colors.append(\"r\")\n",
    "    else:\n",
    "        colors.append(\"b\")\n",
    "for i in range(len(x)):\n",
    "    ax.scatter(x[i], y[i], c=colors[i])\n",
    "plt.show()"
   ]
  },
  {
   "cell_type": "code",
   "execution_count": null,
   "metadata": {},
   "outputs": [],
   "source": []
  }
 ],
 "metadata": {
  "kernelspec": {
   "display_name": "Python 3",
   "language": "python",
   "name": "python3"
  },
  "language_info": {
   "codemirror_mode": {
    "name": "ipython",
    "version": 3
   },
   "file_extension": ".py",
   "mimetype": "text/x-python",
   "name": "python",
   "nbconvert_exporter": "python",
   "pygments_lexer": "ipython3",
   "version": "3.7.4"
  }
 },
 "nbformat": 4,
 "nbformat_minor": 2
}
