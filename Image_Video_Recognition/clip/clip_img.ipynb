{
 "cells": [
  {
   "cell_type": "code",
   "execution_count": 1,
   "metadata": {},
   "outputs": [],
   "source": [
    "import cv2\n",
    "\n",
    "img = cv2.imread('a.png')"
   ]
  },
  {
   "cell_type": "code",
   "execution_count": 2,
   "metadata": {},
   "outputs": [
    {
     "data": {
      "text/plain": [
       "(1620, 2160, 3)"
      ]
     },
     "execution_count": 2,
     "metadata": {},
     "output_type": "execute_result"
    }
   ],
   "source": [
    "img.shape"
   ]
  },
  {
   "cell_type": "code",
   "execution_count": 15,
   "metadata": {},
   "outputs": [],
   "source": [
    "# col = [[30,440], [445,855], [860, 1270], [1275, 1685], [1690, 2100]]\n",
    "# row = [[100, 510], [515, 925], [930, 1340]]\n",
    "col = [[43,535], [548,1040], [1058, 1550], [1563, 2055], [2068, 2560]]\n",
    "row = [[98, 590], [608, 1100], [1113, 1605]]"
   ]
  },
  {
   "cell_type": "code",
   "execution_count": 16,
   "metadata": {},
   "outputs": [
    {
     "data": {
      "text/plain": [
       "([[98, 590], [608, 1100], [1113, 1605]],\n",
       " [[43, 535], [548, 1040], [1058, 1550], [1563, 2055], [2068, 2560]])"
      ]
     },
     "execution_count": 16,
     "metadata": {},
     "output_type": "execute_result"
    }
   ],
   "source": [
    "row, col"
   ]
  },
  {
   "cell_type": "code",
   "execution_count": 24,
   "metadata": {},
   "outputs": [],
   "source": [
    "# for col_idx in col:\n",
    "#     for row_idx in row:\n",
    "#         sub = img[col_idx[0]:col_idx[1], row_idx[0]:row_idx[1]]\n",
    "\n",
    "def clip2(img, prefix_list, prefix_idx=0, start_idx=1, out_dir='./temp/'):\n",
    "    for i in range(15):\n",
    "        c = int(i/3)\n",
    "        r = i%3\n",
    "        perfix=prefix_list[prefix_idx]\n",
    "\n",
    "        col_idx = col[c] \n",
    "        row_idx = row[r]\n",
    "        sub = img[row_idx[0]:row_idx[1], col_idx[0]:col_idx[1]]\n",
    "        sub = cv2.resize(sub, (410, 410), interpolation=cv2.INTER_CUBIC)\n",
    "        \n",
    "        cv2.imwrite(out_dir+perfix[c]+'_'+str(start_idx+r).zfill(5)+'.png', sub)\n",
    "\n",
    "img1 = cv2.imread('../original_dataset/cheng/13.png')\n",
    "img2 = cv2.imread('../original_dataset/cheng/14.png')\n",
    "start_idx = 82\n",
    "prefix_list = [['U0031', 'U0032', 'U0033', 'U0034', 'U0035'], ['U0036', 'U0037', 'U0038', 'U0039', 'U0030']]\n",
    "clip2(img1, prefix_list, prefix_idx=0, start_idx=start_idx)\n",
    "clip2(img2, prefix_list, prefix_idx=1, start_idx=start_idx)"
   ]
  },
  {
   "cell_type": "markdown",
   "metadata": {},
   "source": [
    "## real solution"
   ]
  },
  {
   "cell_type": "code",
   "execution_count": 3,
   "metadata": {},
   "outputs": [],
   "source": [
    "import cv2\n",
    "import numpy as np\n",
    "\n",
    "threshold = 200000\n",
    "\n",
    "def clean_arr(arr):\n",
    "    pre = arr[0]\n",
    "    arr_clean = [pre]\n",
    "\n",
    "    for i in arr:\n",
    "        if np.abs(i-pre) < 5:\n",
    "            pre = i\n",
    "            continue\n",
    "        else:\n",
    "            arr_clean.append(i)\n",
    "            pre = i\n",
    "        \n",
    "    return arr_clean\n",
    "\n",
    "def clip(img, prefix_list, prefix_idx=0, start_idx=1, out_dir='./temp/'):\n",
    "    # cv2默认为bgr顺序\n",
    "    c_b = np.where(img.sum(0)[:,1] < threshold)\n",
    "    c_g = np.where(img.sum(0)[:,0] < threshold)\n",
    "    r_b = np.where(img.sum(1)[:,1] < threshold)\n",
    "    r_g = np.where(img.sum(1)[:,0] < threshold)\n",
    "\n",
    "    row = np.intersect1d(r_b,r_g)\n",
    "    col = np.intersect1d(c_b,c_g)\n",
    "\n",
    "    row_clean = clean_arr(row)\n",
    "    col_clean = clean_arr(col)\n",
    "\n",
    "    for i in range(15):\n",
    "        c = int(i/3)\n",
    "        r = i%3\n",
    "        perfix=prefix_list[prefix_idx]\n",
    "        sub = img[row_clean[r]+3:row_clean[r+1]-2, col_clean[c]+3:col_clean[c+1]-2]\n",
    "        cv2.imwrite(out_dir+perfix[c]+'_'+str(start_idx+r).zfill(5)+'.png', sub)\n",
    "#         cv2.imwrite(out_dir+'out'+str(i)+'.png', sub)"
   ]
  },
  {
   "cell_type": "code",
   "execution_count": 4,
   "metadata": {},
   "outputs": [
    {
     "ename": "IndexError",
     "evalue": "list index out of range",
     "output_type": "error",
     "traceback": [
      "\u001b[0;31m---------------------------------------------------------------------------\u001b[0m",
      "\u001b[0;31mIndexError\u001b[0m                                Traceback (most recent call last)",
      "\u001b[0;32m<ipython-input-4-0e5888a093dd>\u001b[0m in \u001b[0;36m<module>\u001b[0;34m\u001b[0m\n\u001b[1;32m      3\u001b[0m \u001b[0mstart_idx\u001b[0m \u001b[0;34m=\u001b[0m \u001b[0;36m64\u001b[0m\u001b[0;34m\u001b[0m\u001b[0;34m\u001b[0m\u001b[0m\n\u001b[1;32m      4\u001b[0m \u001b[0mprefix_list\u001b[0m \u001b[0;34m=\u001b[0m \u001b[0;34m[\u001b[0m\u001b[0;34m[\u001b[0m\u001b[0;34m'U0031'\u001b[0m\u001b[0;34m,\u001b[0m \u001b[0;34m'U0032'\u001b[0m\u001b[0;34m,\u001b[0m \u001b[0;34m'U0033'\u001b[0m\u001b[0;34m,\u001b[0m \u001b[0;34m'U0034'\u001b[0m\u001b[0;34m,\u001b[0m \u001b[0;34m'U0035'\u001b[0m\u001b[0;34m]\u001b[0m\u001b[0;34m,\u001b[0m \u001b[0;34m[\u001b[0m\u001b[0;34m'U0036'\u001b[0m\u001b[0;34m,\u001b[0m \u001b[0;34m'U0037'\u001b[0m\u001b[0;34m,\u001b[0m \u001b[0;34m'U0038'\u001b[0m\u001b[0;34m,\u001b[0m \u001b[0;34m'U0039'\u001b[0m\u001b[0;34m,\u001b[0m \u001b[0;34m'U0030'\u001b[0m\u001b[0;34m]\u001b[0m\u001b[0;34m]\u001b[0m\u001b[0;34m\u001b[0m\u001b[0;34m\u001b[0m\u001b[0m\n\u001b[0;32m----> 5\u001b[0;31m \u001b[0mclip\u001b[0m\u001b[0;34m(\u001b[0m\u001b[0mimg1\u001b[0m\u001b[0;34m,\u001b[0m \u001b[0mprefix_list\u001b[0m\u001b[0;34m,\u001b[0m \u001b[0mprefix_idx\u001b[0m\u001b[0;34m=\u001b[0m\u001b[0;36m0\u001b[0m\u001b[0;34m,\u001b[0m \u001b[0mstart_idx\u001b[0m\u001b[0;34m=\u001b[0m\u001b[0mstart_idx\u001b[0m\u001b[0;34m)\u001b[0m\u001b[0;34m\u001b[0m\u001b[0;34m\u001b[0m\u001b[0m\n\u001b[0m\u001b[1;32m      6\u001b[0m \u001b[0mclip\u001b[0m\u001b[0;34m(\u001b[0m\u001b[0mimg2\u001b[0m\u001b[0;34m,\u001b[0m \u001b[0mprefix_list\u001b[0m\u001b[0;34m,\u001b[0m \u001b[0mprefix_idx\u001b[0m\u001b[0;34m=\u001b[0m\u001b[0;36m1\u001b[0m\u001b[0;34m,\u001b[0m \u001b[0mstart_idx\u001b[0m\u001b[0;34m=\u001b[0m\u001b[0mstart_idx\u001b[0m\u001b[0;34m)\u001b[0m\u001b[0;34m\u001b[0m\u001b[0;34m\u001b[0m\u001b[0m\n",
      "\u001b[0;32m<ipython-input-3-14ff53585ccd>\u001b[0m in \u001b[0;36mclip\u001b[0;34m(img, prefix_list, prefix_idx, start_idx, out_dir)\u001b[0m\n\u001b[1;32m     35\u001b[0m         \u001b[0mr\u001b[0m \u001b[0;34m=\u001b[0m \u001b[0mi\u001b[0m\u001b[0;34m%\u001b[0m\u001b[0;36m3\u001b[0m\u001b[0;34m\u001b[0m\u001b[0;34m\u001b[0m\u001b[0m\n\u001b[1;32m     36\u001b[0m         \u001b[0mperfix\u001b[0m\u001b[0;34m=\u001b[0m\u001b[0mprefix_list\u001b[0m\u001b[0;34m[\u001b[0m\u001b[0mprefix_idx\u001b[0m\u001b[0;34m]\u001b[0m\u001b[0;34m\u001b[0m\u001b[0;34m\u001b[0m\u001b[0m\n\u001b[0;32m---> 37\u001b[0;31m         \u001b[0msub\u001b[0m \u001b[0;34m=\u001b[0m \u001b[0mimg\u001b[0m\u001b[0;34m[\u001b[0m\u001b[0mrow_clean\u001b[0m\u001b[0;34m[\u001b[0m\u001b[0mr\u001b[0m\u001b[0;34m]\u001b[0m\u001b[0;34m+\u001b[0m\u001b[0;36m3\u001b[0m\u001b[0;34m:\u001b[0m\u001b[0mrow_clean\u001b[0m\u001b[0;34m[\u001b[0m\u001b[0mr\u001b[0m\u001b[0;34m+\u001b[0m\u001b[0;36m1\u001b[0m\u001b[0;34m]\u001b[0m\u001b[0;34m-\u001b[0m\u001b[0;36m2\u001b[0m\u001b[0;34m,\u001b[0m \u001b[0mcol_clean\u001b[0m\u001b[0;34m[\u001b[0m\u001b[0mc\u001b[0m\u001b[0;34m]\u001b[0m\u001b[0;34m+\u001b[0m\u001b[0;36m3\u001b[0m\u001b[0;34m:\u001b[0m\u001b[0mcol_clean\u001b[0m\u001b[0;34m[\u001b[0m\u001b[0mc\u001b[0m\u001b[0;34m+\u001b[0m\u001b[0;36m1\u001b[0m\u001b[0;34m]\u001b[0m\u001b[0;34m-\u001b[0m\u001b[0;36m2\u001b[0m\u001b[0;34m]\u001b[0m\u001b[0;34m\u001b[0m\u001b[0;34m\u001b[0m\u001b[0m\n\u001b[0m\u001b[1;32m     38\u001b[0m         \u001b[0mcv2\u001b[0m\u001b[0;34m.\u001b[0m\u001b[0mimwrite\u001b[0m\u001b[0;34m(\u001b[0m\u001b[0mout_dir\u001b[0m\u001b[0;34m+\u001b[0m\u001b[0mperfix\u001b[0m\u001b[0;34m[\u001b[0m\u001b[0mc\u001b[0m\u001b[0;34m]\u001b[0m\u001b[0;34m+\u001b[0m\u001b[0;34m'_'\u001b[0m\u001b[0;34m+\u001b[0m\u001b[0mstr\u001b[0m\u001b[0;34m(\u001b[0m\u001b[0mstart_idx\u001b[0m\u001b[0;34m+\u001b[0m\u001b[0mr\u001b[0m\u001b[0;34m)\u001b[0m\u001b[0;34m.\u001b[0m\u001b[0mzfill\u001b[0m\u001b[0;34m(\u001b[0m\u001b[0;36m5\u001b[0m\u001b[0;34m)\u001b[0m\u001b[0;34m+\u001b[0m\u001b[0;34m'.png'\u001b[0m\u001b[0;34m,\u001b[0m \u001b[0msub\u001b[0m\u001b[0;34m)\u001b[0m\u001b[0;34m\u001b[0m\u001b[0;34m\u001b[0m\u001b[0m\n\u001b[1;32m     39\u001b[0m \u001b[0;31m#         cv2.imwrite(out_dir+'out'+str(i)+'.png', sub)\u001b[0m\u001b[0;34m\u001b[0m\u001b[0;34m\u001b[0m\u001b[0;34m\u001b[0m\u001b[0m\n",
      "\u001b[0;31mIndexError\u001b[0m: list index out of range"
     ]
    }
   ],
   "source": [
    "img1 = cv2.imread('../original_dataset/cheng/01.png')\n",
    "img2 = cv2.imread('../original_dataset/cheng/02.png')\n",
    "start_idx = 64\n",
    "prefix_list = [['U0031', 'U0032', 'U0033', 'U0034', 'U0035'], ['U0036', 'U0037', 'U0038', 'U0039', 'U0030']]\n",
    "clip(img1, prefix_list, prefix_idx=0, start_idx=start_idx)\n",
    "clip(img2, prefix_list, prefix_idx=1, start_idx=start_idx)"
   ]
  },
  {
   "cell_type": "markdown",
   "metadata": {},
   "source": [
    "# change csv file"
   ]
  },
  {
   "cell_type": "code",
   "execution_count": 1,
   "metadata": {},
   "outputs": [],
   "source": [
    "def change_csv(original_file, out_file, new_writer):\n",
    "    with open(original_file) as f:\n",
    "        lines = [x for x in f.readlines()]\n",
    "        \n",
    "    new_list = []\n",
    "\n",
    "    for line in lines[1:]:\n",
    "#         import pdb\n",
    "#         pdb.set_trace()\n",
    "        new_name = str(int(line.split('\\\"')[1].split('_')[1].split('.')[0])+63).zfill(5)+'.png\"'\n",
    "        new_line = line.split(',')\n",
    "        new_line[0] = new_line[0].split('_')[0]+'_'+new_name\n",
    "        new_line[2] = new_writer\n",
    "        new_line = \"\".join(new_line).replace(' ', ', ')\n",
    "        new_list.append(new_line)\n",
    "        \n",
    "    with open(out_file, 'w') as f:\n",
    "        for i in new_list:\n",
    "            f.write(i)"
   ]
  },
  {
   "cell_type": "code",
   "execution_count": 2,
   "metadata": {},
   "outputs": [],
   "source": [
    "new_writer = ' \"Cheng\"\\n'\n",
    "original_file = '../dataset_clip/shen.csv'\n",
    "out_file = '../dataset_clip/cheng.csv'\n",
    "change_csv(original_file, out_file, new_writer)"
   ]
  },
  {
   "cell_type": "code",
   "execution_count": 78,
   "metadata": {},
   "outputs": [],
   "source": []
  },
  {
   "cell_type": "code",
   "execution_count": 87,
   "metadata": {},
   "outputs": [
    {
     "data": {
      "text/plain": [
       "['\"U0030/U0030_00022.png', ' \"Pencil\"', ' \"Wang\"\\n']"
      ]
     },
     "execution_count": 87,
     "metadata": {},
     "output_type": "execute_result"
    }
   ],
   "source": [
    "new_lines = lines[1].split(',')\n",
    "new_lines[0] = new_lines[0].split('_')[0]+'_'+new_name\n",
    "new_lines[2] = new_writer\n",
    "len(new_lines)\n",
    "# new_lines.pop(2)\n",
    "new_lines"
   ]
  },
  {
   "cell_type": "code",
   "execution_count": 89,
   "metadata": {},
   "outputs": [
    {
     "data": {
      "text/plain": [
       "'\"U0030/U0030_00022.png, \"Pencil\", \"Wang\"\\n'"
      ]
     },
     "execution_count": 89,
     "metadata": {},
     "output_type": "execute_result"
    }
   ],
   "source": [
    "new_lines = \"\".join(new_lines)\n",
    "new_lines.replace(' ', ', ')"
   ]
  },
  {
   "cell_type": "code",
   "execution_count": null,
   "metadata": {},
   "outputs": [],
   "source": []
  }
 ],
 "metadata": {
  "kernelspec": {
   "display_name": "Python 3",
   "language": "python",
   "name": "python3"
  },
  "language_info": {
   "codemirror_mode": {
    "name": "ipython",
    "version": 3
   },
   "file_extension": ".py",
   "mimetype": "text/x-python",
   "name": "python",
   "nbconvert_exporter": "python",
   "pygments_lexer": "ipython3",
   "version": "3.7.4"
  }
 },
 "nbformat": 4,
 "nbformat_minor": 2
}
