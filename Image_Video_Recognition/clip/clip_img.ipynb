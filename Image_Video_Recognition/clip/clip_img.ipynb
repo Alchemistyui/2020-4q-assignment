{
 "cells": [
  {
   "cell_type": "code",
   "execution_count": 1,
   "metadata": {},
   "outputs": [],
   "source": [
    "import cv2\n",
    "\n",
    "img = cv2.imread('a.png')"
   ]
  },
  {
   "cell_type": "code",
   "execution_count": 2,
   "metadata": {},
   "outputs": [
    {
     "data": {
      "text/plain": [
       "(1620, 2160, 3)"
      ]
     },
     "execution_count": 2,
     "metadata": {},
     "output_type": "execute_result"
    }
   ],
   "source": [
    "img.shape"
   ]
  },
  {
   "cell_type": "code",
   "execution_count": 5,
   "metadata": {},
   "outputs": [],
   "source": [
    "col = [[30,440], [445,855], [860, 1270], [1275, 1685], [1690, 2100]]\n",
    "row = [[100, 510], [515, 925], [930, 1340]]"
   ]
  },
  {
   "cell_type": "code",
   "execution_count": 6,
   "metadata": {},
   "outputs": [
    {
     "data": {
      "text/plain": [
       "([[100, 510], [515, 925], [930, 1340]],\n",
       " [[30, 440], [445, 855], [860, 1270], [1275, 1685], [1690, 2100]])"
      ]
     },
     "execution_count": 6,
     "metadata": {},
     "output_type": "execute_result"
    }
   ],
   "source": [
    "row, col"
   ]
  },
  {
   "cell_type": "code",
   "execution_count": 9,
   "metadata": {},
   "outputs": [
    {
     "data": {
      "text/plain": [
       "True"
      ]
     },
     "execution_count": 9,
     "metadata": {},
     "output_type": "execute_result"
    }
   ],
   "source": [
    "# for col_idx in col:\n",
    "#     for row_idx in row:\n",
    "#         sub = img[col_idx[0]:col_idx[1], row_idx[0]:row_idx[1]]\n",
    "        \n",
    "col_idx = col[0] \n",
    "row_idx = row[0]\n",
    "sub = img[row_idx[0]:row_idx[1], col_idx[0]:col_idx[1]]\n",
    "cv2.imwrite('sub.png', sub)"
   ]
  },
  {
   "cell_type": "markdown",
   "metadata": {},
   "source": [
    "## real solution"
   ]
  },
  {
   "cell_type": "code",
   "execution_count": 129,
   "metadata": {},
   "outputs": [],
   "source": [
    "import cv2\n",
    "import numpy as np\n",
    "\n",
    "threshold = 200000\n",
    "\n",
    "def clean_arr(arr):\n",
    "    pre = arr[0]\n",
    "    arr_clean = [pre]\n",
    "\n",
    "    for i in arr:\n",
    "        if np.abs(i-pre) < 5:\n",
    "            pre = i\n",
    "            continue\n",
    "        else:\n",
    "            arr_clean.append(i)\n",
    "            pre = i\n",
    "        \n",
    "    return arr_clean\n",
    "\n",
    "def clip(img, prefix_list, prefix_idx=0, start_idx=1, out_dir='./temp/'):\n",
    "    # cv2默认为bgr顺序\n",
    "    c_b = np.where(img.sum(0)[:,1] < threshold)\n",
    "    c_g = np.where(img.sum(0)[:,0] < threshold)\n",
    "    r_b = np.where(img.sum(1)[:,1] < threshold)\n",
    "    r_g = np.where(img.sum(1)[:,0] < threshold)\n",
    "\n",
    "    row = np.intersect1d(r_b,r_g)\n",
    "    col = np.intersect1d(c_b,c_g)\n",
    "\n",
    "    row_clean = clean_arr(row)\n",
    "    col_clean = clean_arr(col)\n",
    "\n",
    "    for i in range(15):\n",
    "        c = int(i/3)\n",
    "        r = i%3\n",
    "        perfix=prefix_list[prefix_idx]\n",
    "        sub = img[row_clean[r]+3:row_clean[r+1]-2, col_clean[c]+3:col_clean[c+1]-2]\n",
    "        cv2.imwrite(out_dir+perfix[c]+'_'+str(start_idx+r).zfill(5)+'.png', sub)\n",
    "#         cv2.imwrite(out_dir+'out'+str(i)+'.png', sub)"
   ]
  },
  {
   "cell_type": "code",
   "execution_count": 136,
   "metadata": {},
   "outputs": [],
   "source": [
    "img1 = cv2.imread('../original_dataset/peng/IMG_1148.png')\n",
    "img2 = cv2.imread('../original_dataset/peng/IMG_1149.png')\n",
    "start_idx = 61\n",
    "prefix_list = [['U0031', 'U0032', 'U0033', 'U0034', 'U0035'], ['U0036', 'U0037', 'U0038', 'U0039', 'U0030']]\n",
    "clip(img1, prefix_list, prefix_idx=0, start_idx=start_idx)\n",
    "clip(img2, prefix_list, prefix_idx=1, start_idx=start_idx)"
   ]
  },
  {
   "cell_type": "markdown",
   "metadata": {},
   "source": [
    "# change csv file"
   ]
  },
  {
   "cell_type": "code",
   "execution_count": 127,
   "metadata": {},
   "outputs": [],
   "source": [
    "def change_csv(original_file, out_file, new_writer):\n",
    "    with open(original_file) as f:\n",
    "        lines = [x for x in f.readlines()]\n",
    "        \n",
    "    new_list = []\n",
    "\n",
    "    for line in lines[1:]:\n",
    "#         import pdb\n",
    "#         pdb.set_trace()\n",
    "        new_name = str(int(line.split('\\\"')[1].split('_')[1].split('.')[0])+42).zfill(5)+'.png\"'\n",
    "        new_line = line.split(',')\n",
    "        new_line[0] = new_line[0].split('_')[0]+'_'+new_name\n",
    "        new_line[2] = new_writer\n",
    "        new_line = \"\".join(new_line).replace(' ', ', ')\n",
    "        new_list.append(new_line)\n",
    "        \n",
    "    with open(out_file, 'w') as f:\n",
    "        for i in new_list:\n",
    "            f.write(i)"
   ]
  },
  {
   "cell_type": "code",
   "execution_count": 128,
   "metadata": {},
   "outputs": [],
   "source": [
    "new_writer = ' \"Peng\"\\n'\n",
    "original_file = '../dataset_clip/shen.csv'\n",
    "out_file = '../dataset_clip/peng.csv'\n",
    "change_csv(original_file, out_file, new_writer)"
   ]
  },
  {
   "cell_type": "code",
   "execution_count": 78,
   "metadata": {},
   "outputs": [],
   "source": []
  },
  {
   "cell_type": "code",
   "execution_count": 87,
   "metadata": {},
   "outputs": [
    {
     "data": {
      "text/plain": [
       "['\"U0030/U0030_00022.png', ' \"Pencil\"', ' \"Wang\"\\n']"
      ]
     },
     "execution_count": 87,
     "metadata": {},
     "output_type": "execute_result"
    }
   ],
   "source": [
    "new_lines = lines[1].split(',')\n",
    "new_lines[0] = new_lines[0].split('_')[0]+'_'+new_name\n",
    "new_lines[2] = new_writer\n",
    "len(new_lines)\n",
    "# new_lines.pop(2)\n",
    "new_lines"
   ]
  },
  {
   "cell_type": "code",
   "execution_count": 89,
   "metadata": {},
   "outputs": [
    {
     "data": {
      "text/plain": [
       "'\"U0030/U0030_00022.png, \"Pencil\", \"Wang\"\\n'"
      ]
     },
     "execution_count": 89,
     "metadata": {},
     "output_type": "execute_result"
    }
   ],
   "source": [
    "new_lines = \"\".join(new_lines)\n",
    "new_lines.replace(' ', ', ')"
   ]
  },
  {
   "cell_type": "code",
   "execution_count": null,
   "metadata": {},
   "outputs": [],
   "source": []
  }
 ],
 "metadata": {
  "kernelspec": {
   "display_name": "Python 3",
   "language": "python",
   "name": "python3"
  },
  "language_info": {
   "codemirror_mode": {
    "name": "ipython",
    "version": 3
   },
   "file_extension": ".py",
   "mimetype": "text/x-python",
   "name": "python",
   "nbconvert_exporter": "python",
   "pygments_lexer": "ipython3",
   "version": "3.7.4"
  }
 },
 "nbformat": 4,
 "nbformat_minor": 2
}
