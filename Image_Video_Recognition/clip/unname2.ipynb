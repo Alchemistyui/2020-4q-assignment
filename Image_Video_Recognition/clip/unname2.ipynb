{
 "cells": [
  {
   "cell_type": "code",
   "execution_count": 2,
   "metadata": {},
   "outputs": [
    {
     "data": {
      "text/plain": [
       "(1520, 1215)"
      ]
     },
     "execution_count": 2,
     "metadata": {},
     "output_type": "execute_result"
    }
   ],
   "source": [
    "300*5+4*5, 300*4+3*5"
   ]
  },
  {
   "cell_type": "code",
   "execution_count": 28,
   "metadata": {},
   "outputs": [
    {
     "data": {
      "text/plain": [
       "True"
      ]
     },
     "execution_count": 28,
     "metadata": {},
     "output_type": "execute_result"
    }
   ],
   "source": [
    "import cv2\n",
    "import numpy as np\n",
    "img = np.array([0]*1520*1215*3).reshape(1215, 1520, 3)\n",
    "img[300:306][0] = 0\n",
    "img[300:306][1] = 0\n",
    "img[300:306][3] = 0\n",
    "img.shape\n",
    "cv2.imwrite('out2.png', img)"
   ]
  },
  {
   "cell_type": "code",
   "execution_count": 21,
   "metadata": {},
   "outputs": [],
   "source": [
    "I = cv2.imread('a.png')"
   ]
  },
  {
   "cell_type": "code",
   "execution_count": 22,
   "metadata": {},
   "outputs": [
    {
     "data": {
      "text/plain": [
       "(1620, 2160, 3)"
      ]
     },
     "execution_count": 22,
     "metadata": {},
     "output_type": "execute_result"
    }
   ],
   "source": [
    "I.shape"
   ]
  },
  {
   "cell_type": "code",
   "execution_count": 26,
   "metadata": {},
   "outputs": [
    {
     "data": {
      "text/plain": [
       "array([[[246, 246, 246],\n",
       "        [245, 245, 245],\n",
       "        [245, 245, 245],\n",
       "        ...,\n",
       "        [248, 248, 248],\n",
       "        [246, 246, 246],\n",
       "        [246, 246, 246]],\n",
       "\n",
       "       [[250, 250, 250],\n",
       "        [245, 245, 245],\n",
       "        [245, 245, 245],\n",
       "        ...,\n",
       "        [246, 246, 246],\n",
       "        [246, 246, 246],\n",
       "        [246, 246, 246]],\n",
       "\n",
       "       [[252, 252, 252],\n",
       "        [248, 248, 248],\n",
       "        [246, 246, 246],\n",
       "        ...,\n",
       "        [243, 243, 243],\n",
       "        [245, 245, 245],\n",
       "        [248, 248, 248]],\n",
       "\n",
       "       ...,\n",
       "\n",
       "       [[255, 255, 255],\n",
       "        [255, 255, 255],\n",
       "        [255, 255, 255],\n",
       "        ...,\n",
       "        [255, 255, 255],\n",
       "        [255, 255, 255],\n",
       "        [255, 255, 255]],\n",
       "\n",
       "       [[255, 255, 255],\n",
       "        [255, 255, 255],\n",
       "        [255, 255, 255],\n",
       "        ...,\n",
       "        [255, 255, 255],\n",
       "        [255, 255, 255],\n",
       "        [255, 255, 255]],\n",
       "\n",
       "       [[255, 255, 255],\n",
       "        [255, 255, 255],\n",
       "        [255, 255, 255],\n",
       "        ...,\n",
       "        [255, 255, 255],\n",
       "        [255, 255, 255],\n",
       "        [255, 255, 255]]], dtype=uint8)"
      ]
     },
     "execution_count": 26,
     "metadata": {},
     "output_type": "execute_result"
    }
   ],
   "source": [
    "I[:200, :200]"
   ]
  },
  {
   "cell_type": "markdown",
   "metadata": {},
   "source": [
    "# emmmmmmmmm"
   ]
  },
  {
   "cell_type": "code",
   "execution_count": 2,
   "metadata": {},
   "outputs": [
    {
     "data": {
      "text/plain": [
       "True"
      ]
     },
     "execution_count": 2,
     "metadata": {},
     "output_type": "execute_result"
    }
   ],
   "source": [
    "import cv2\n",
    "img = cv2.imread('a.png')\n",
    "gray = cv2.cvtColor(img, cv2.COLOR_BGR2GRAY)\n",
    "# img_ret, contours, hierarchy = cv2.findContours(gray, cv2.RETR_EXTERNAL, cv2.CHAIN_APPROX_SIMPLE)\n",
    "\n",
    "contours, hierarchy = cv2.findContours(gray,cv2.RETR_TREE,cv2.CHAIN_APPROX_SIMPLE)  \n",
    "cv2.drawContours(img,contours,-1,(255,0,0),3) \n",
    "\n",
    "cv2.imwrite(\"img.png\", img)  \n"
   ]
  },
  {
   "cell_type": "code",
   "execution_count": null,
   "metadata": {},
   "outputs": [],
   "source": [
    "import numpy as np\n",
    "import cv2\n",
    "import os\n",
    "image = 'a.png'\n",
    "savefile = './'\n",
    "# image = os.listdir(image_file)\n",
    "save_image = os.path.join(savefile, image)\n",
    "\n",
    "#设定颜色HSV范围，假定为红色\n",
    "redLower = np.array([156, 43, 46])\n",
    "redUpper = np.array([179, 255, 255])\n",
    "\n",
    "#读取图像\n",
    "img = cv2.imread(image)\n",
    "\n",
    "#将图像转化为HSV格式\n",
    "hsv = cv2.cvtColor(img, cv2.COLOR_BGR2HSV)\n",
    "\n",
    "#去除颜色范围外的其余颜色\n",
    "mask = cv2.inRange(hsv, redLower, redUpper)\n",
    "# 二值化操作\n",
    "ret, binary = cv2.threshold(mask, 0, 255, cv2.THRESH_BINARY)\n",
    "\n",
    "#膨胀操作，因为是对线条进行提取定位，所以腐蚀可能会造成更大间隔的断点，将线条切断，因此仅做膨胀操作\n",
    "kernel = np.ones((5, 5), np.uint8)\n",
    "dilation = cv2.dilate(binary, kernel, iterations=1)\n",
    "\n",
    "#获取图像轮廓坐标，其中contours为坐标值，此处只检测外形轮廓\n",
    "contours, hierarchy = cv2.findContours(dilation, cv2.RETR_EXTERNAL, cv2.CHAIN_APPROX_SIMPLE)\n",
    "\n",
    "if len(contours) > 0:\n",
    "    #cv2.boundingRect()返回轮廓矩阵的坐标值，四个值为x, y, w, h， 其中x, y为左上角坐标，w,h为矩阵的宽和高\n",
    "    boxes = [cv2.boundingRect(c) for c in contours]\n",
    "    for box in boxes:\n",
    "        x, y, w, h = box\n",
    "        #绘制矩形框对轮廓进行定位\n",
    "        cv2.rectangle(img, (x, y), (x+w, y+h), (153, 153, 0), 2)\n",
    "#将绘制的图像保存并展示\n",
    "cv2.imwrite(save_image, img)\n",
    "cv2.imshow('image', img)\n",
    "cv2.waitKey(0)\n",
    "cv2.destroyAllWindows()"
   ]
  },
  {
   "cell_type": "code",
   "execution_count": null,
   "metadata": {},
   "outputs": [],
   "source": []
  }
 ],
 "metadata": {
  "kernelspec": {
   "display_name": "Python 3",
   "language": "python",
   "name": "python3"
  },
  "language_info": {
   "codemirror_mode": {
    "name": "ipython",
    "version": 3
   },
   "file_extension": ".py",
   "mimetype": "text/x-python",
   "name": "python",
   "nbconvert_exporter": "python",
   "pygments_lexer": "ipython3",
   "version": "3.7.4"
  }
 },
 "nbformat": 4,
 "nbformat_minor": 2
}
