{
 "cells": [
  {
   "cell_type": "code",
   "execution_count": 2,
   "metadata": {},
   "outputs": [],
   "source": [
    "# import os\n",
    "import tensorflow as tf\n",
    "# import input_data\n",
    "from tensorflow.keras import datasets, layers, models\n",
    "\n",
    "import numpy as np\n",
    "\n",
    "from matplotlib import pyplot as plt\n",
    "from IPython import display\n",
    "%matplotlib inline\n",
    "display.set_matplotlib_formats('svg')"
   ]
  },
  {
   "cell_type": "code",
   "execution_count": 3,
   "metadata": {},
   "outputs": [],
   "source": [
    "bs=64\n",
    "epochs=5\n",
    "num_classes = 10\n",
    "num_workers = 4\n",
    "lr=0.1\n",
    "\n",
    "\n",
    "def load_data():\n",
    "    # mnist数据集存储的位置，如何不存在将自动下载\n",
    "    data_path = '/Users/Alchemist/Desktop/2020-4q-assignment/Image_Video_Recognition/data/mnist.npz'\n",
    "    (train_images, train_labels), (test_images, test_labels) = datasets.mnist.load_data(path=data_path)\n",
    "    # 6万张训练图片，1万张测试图片\n",
    "    train_images = train_images.reshape((60000, 28, 28, 1))\n",
    "    test_images = test_images.reshape((10000, 28, 28, 1))\n",
    "    # 像素值映射到 0 - 1 之间\n",
    "    train_images, test_images = train_images / 255.0, test_images / 255.0\n",
    "\n",
    "    train_images, train_labels = train_images, train_labels\n",
    "    test_images, test_labels = test_images, test_labels\n",
    "    \n",
    "    return train_images, train_labels, test_images, test_labels"
   ]
  },
  {
   "cell_type": "code",
   "execution_count": 4,
   "metadata": {},
   "outputs": [],
   "source": [
    "class Net(object):\n",
    "    def __init__(self):\n",
    "        model = models.Sequential()\n",
    "        # 第1层卷积，卷积核大小为3*3，32个，28*28为待训练图片的大小\n",
    "        model.add(layers.Conv2D(\n",
    "            32, (3, 3), activation='relu', input_shape=(28, 28, 1)))\n",
    "        model.add(layers.MaxPooling2D((2, 2)))\n",
    "        # 第2层卷积，卷积核大小为3*3，64个\n",
    "        model.add(layers.Conv2D(64, (3, 3), activation='relu'))\n",
    "        model.add(layers.MaxPooling2D((2, 2)))\n",
    "        # 第3层卷积，卷积核大小为3*3，64个\n",
    "        model.add(layers.Conv2D(64, (3, 3), activation='relu'))\n",
    "\n",
    "        model.add(layers.Flatten())\n",
    "        model.add(layers.Dense(64, activation='relu'))\n",
    "        model.add(layers.Dense(10, activation='softmax'))\n",
    "\n",
    "        model.summary()\n",
    "\n",
    "        self.model = model"
   ]
  },
  {
   "cell_type": "code",
   "execution_count": 5,
   "metadata": {},
   "outputs": [],
   "source": [
    "def train(epochs, lr, bs, num_classes):\n",
    "    net=Net()\n",
    "    train_images, train_labels, test_images, test_labels = load_data()\n",
    "    \n",
    "    # 1、define placeholder for input\n",
    "    xs = tf.placeholder(dtype=tf.float32, shape=(None, 28, 28, 1)).\n",
    "    ys = tf.placeholder(dtype=tf.float32, shape=(None, num_classes))\n",
    "#     in_image = tf.reshape(xs, [-1, 28, 28, 1])  # resize the input\n",
    "    \n",
    "    \n",
    "#     loss = tf.losses.\n",
    "    loss = tf.nn.softmax_cross_entropy_with_logits_v2(ys, prediction)\n",
    "    \n",
    "    optimizer = tf.train.GradientDescentOptimizer(lr).minimize(cross_entropy) \n",
    "    \n",
    "    sess = tf.Session()\n",
    "    # very important\n",
    "    init = tf.global_variables_initializer()\n",
    "    sess.run(init)\n",
    "    \n",
    "    net.model.compile(optimizer='adam',\n",
    "                           loss='sparse_categorical_crossentropy',\n",
    "                           metrics=['accuracy'])\n",
    "    net.model.fit(train_images, train_labels,\n",
    "                       epochs=5)\n",
    "\n",
    "    test_loss, test_acc = self.cnn.model.evaluate(\n",
    "        self.data.test_images, self.data.test_labels)\n",
    "    print(\"准确率: %.4f，共测试了%d张图片 \" % (test_acc, len(self.data.test_labels)))"
   ]
  },
  {
   "cell_type": "code",
   "execution_count": null,
   "metadata": {},
   "outputs": [
    {
     "name": "stdout",
     "output_type": "stream",
     "text": [
      "Model: \"sequential\"\n",
      "_________________________________________________________________\n",
      "Layer (type)                 Output Shape              Param #   \n",
      "=================================================================\n",
      "conv2d (Conv2D)              (None, 26, 26, 32)        320       \n",
      "_________________________________________________________________\n",
      "max_pooling2d (MaxPooling2D) (None, 13, 13, 32)        0         \n",
      "_________________________________________________________________\n",
      "conv2d_1 (Conv2D)            (None, 11, 11, 64)        18496     \n",
      "_________________________________________________________________\n",
      "max_pooling2d_1 (MaxPooling2 (None, 5, 5, 64)          0         \n",
      "_________________________________________________________________\n",
      "conv2d_2 (Conv2D)            (None, 3, 3, 64)          36928     \n",
      "_________________________________________________________________\n",
      "flatten (Flatten)            (None, 576)               0         \n",
      "_________________________________________________________________\n",
      "dense (Dense)                (None, 64)                36928     \n",
      "_________________________________________________________________\n",
      "dense_1 (Dense)              (None, 10)                650       \n",
      "=================================================================\n",
      "Total params: 93,322\n",
      "Trainable params: 93,322\n",
      "Non-trainable params: 0\n",
      "_________________________________________________________________\n",
      "Train on 60000 samples\n",
      "Epoch 1/5\n"
     ]
    }
   ],
   "source": [
    "train()"
   ]
  },
  {
   "cell_type": "code",
   "execution_count": null,
   "metadata": {},
   "outputs": [],
   "source": [
    "def train():\n",
    "    net=Net()\n",
    "    train_loader, test_loader = load_data(bs, num_workers)\n",
    "    print(net)\n",
    "#     loss = nn.CrossEntropyLoss()\n",
    "    loss = nn.NLLLoss()\n",
    "    optim = torch.optim.SGD(net.parameters(), lr = lr)"
   ]
  },
  {
   "cell_type": "code",
   "execution_count": 4,
   "metadata": {},
   "outputs": [
    {
     "ename": "SyntaxError",
     "evalue": "unexpected EOF while parsing (<ipython-input-4-1143fe6a694f>, line 1)",
     "output_type": "error",
     "traceback": [
      "\u001b[0;36m  File \u001b[0;32m\"<ipython-input-4-1143fe6a694f>\"\u001b[0;36m, line \u001b[0;32m1\u001b[0m\n\u001b[0;31m    class Net(nn.Module):\u001b[0m\n\u001b[0m                         ^\u001b[0m\n\u001b[0;31mSyntaxError\u001b[0m\u001b[0;31m:\u001b[0m unexpected EOF while parsing\n"
     ]
    }
   ],
   "source": [
    "def Net(inputs, is_training=True):\n",
    "    x = tf.reshape(inputs, [-1, 28, 28, 1])"
   ]
  },
  {
   "cell_type": "code",
   "execution_count": 5,
   "metadata": {},
   "outputs": [
    {
     "ename": "SyntaxError",
     "evalue": "unexpected EOF while parsing (<ipython-input-5-64c18302b56e>, line 1)",
     "output_type": "error",
     "traceback": [
      "\u001b[0;36m  File \u001b[0;32m\"<ipython-input-5-64c18302b56e>\"\u001b[0;36m, line \u001b[0;32m1\u001b[0m\n\u001b[0;31m    def accuracy(y_hat, y):\u001b[0m\n\u001b[0m                           ^\u001b[0m\n\u001b[0;31mSyntaxError\u001b[0m\u001b[0;31m:\u001b[0m unexpected EOF while parsing\n"
     ]
    }
   ],
   "source": [
    "def accuracy(y_hat, y):"
   ]
  },
  {
   "cell_type": "code",
   "execution_count": 6,
   "metadata": {},
   "outputs": [
    {
     "ename": "SyntaxError",
     "evalue": "unexpected EOF while parsing (<ipython-input-6-a22f99d623a1>, line 1)",
     "output_type": "error",
     "traceback": [
      "\u001b[0;36m  File \u001b[0;32m\"<ipython-input-6-a22f99d623a1>\"\u001b[0;36m, line \u001b[0;32m1\u001b[0m\n\u001b[0;31m    def evaluate(net, loader):\u001b[0m\n\u001b[0m                              ^\u001b[0m\n\u001b[0;31mSyntaxError\u001b[0m\u001b[0;31m:\u001b[0m unexpected EOF while parsing\n"
     ]
    }
   ],
   "source": [
    "def evaluate(net, loader):\n",
    "    correct_prediction = tf.equal(tf.argmax(y,1), tf.argmax(y_,1))\n",
    "    accuracy = tf.reduce_mean(tf.cast(correct_prediction, \"float\"))"
   ]
  },
  {
   "cell_type": "code",
   "execution_count": 7,
   "metadata": {},
   "outputs": [
    {
     "ename": "SyntaxError",
     "evalue": "unexpected EOF while parsing (<ipython-input-7-379b7ae5a968>, line 1)",
     "output_type": "error",
     "traceback": [
      "\u001b[0;36m  File \u001b[0;32m\"<ipython-input-7-379b7ae5a968>\"\u001b[0;36m, line \u001b[0;32m1\u001b[0m\n\u001b[0;31m    def train():\u001b[0m\n\u001b[0m                ^\u001b[0m\n\u001b[0;31mSyntaxError\u001b[0m\u001b[0;31m:\u001b[0m unexpected EOF while parsing\n"
     ]
    }
   ],
   "source": [
    "def train():\n",
    "    \n",
    "    # Boolean for MODE of train or test\n",
    "    is_training = tf.placeholder(tf.bool, name='MODE')\n",
    "    \n",
    "    # tf Graph input\n",
    "    x = tf.placeholder(tf.float32, [None, 784])\n",
    "    y_ = tf.placeholder(tf.float32, [None, 10]) #gt\n",
    "    \n",
    "    # Predict\n",
    "    y = Net(x)\n",
    "    \n",
    "    \n",
    "    \n",
    "    y_ = tf.placeholder(\"float\", [None,10])\n",
    "    cross_entropy = -tf.reduce_sum(y_*tf.log(y))\n",
    "    train_step = tf.train.GradientDescentOptimizer(0.01).minimize(cross_entropy)\n",
    "    init = tf.initialize_all_variables()\n",
    "    \n",
    "    sess = tf.Session()\n",
    "sess.run(init)\n",
    "\n",
    "for i in range(1000):\n",
    "  batch_xs, batch_ys = mnist.train.next_batch(100)\n",
    "  sess.run(train_step, feed_dict={x: batch_xs, y_: batch_ys})\n",
    "    \n",
    "    \n",
    "print sess.run(accuracy, feed_dict={x: mnist.test.images, y_: mnist.test.labels})"
   ]
  },
  {
   "cell_type": "code",
   "execution_count": null,
   "metadata": {},
   "outputs": [],
   "source": [
    "def visual(train_loss, train_acc, test_acc):\n",
    "    x = range(len(train_loss))\n",
    "    plt.plot(x, train_loss, label='train_loss')\n",
    "    plt.plot(x, train_acc, label='train_acc')\n",
    "    plt.plot(x, test_acc, label='test_acc')\n",
    "    \n",
    "    plt.legend()\n",
    "    plt.show()\n",
    "visual(train_loss, train_acc, test_acc)"
   ]
  },
  {
   "cell_type": "code",
   "execution_count": 3,
   "metadata": {},
   "outputs": [
    {
     "ename": "ModuleNotFoundError",
     "evalue": "No module named 'tensorflow.examples.tutorials'",
     "output_type": "error",
     "traceback": [
      "\u001b[0;31m---------------------------------------------------------------------------\u001b[0m",
      "\u001b[0;31mModuleNotFoundError\u001b[0m                       Traceback (most recent call last)",
      "\u001b[0;32m<ipython-input-3-c94d45a66a28>\u001b[0m in \u001b[0;36m<module>\u001b[0;34m\u001b[0m\n\u001b[1;32m      1\u001b[0m \u001b[0;31m#import system things\u001b[0m\u001b[0;34m\u001b[0m\u001b[0;34m\u001b[0m\u001b[0;34m\u001b[0m\u001b[0m\n\u001b[1;32m      2\u001b[0m \u001b[0;34m\u001b[0m\u001b[0m\n\u001b[0;32m----> 3\u001b[0;31m \u001b[0;32mfrom\u001b[0m \u001b[0mtensorflow\u001b[0m\u001b[0;34m.\u001b[0m\u001b[0mexamples\u001b[0m\u001b[0;34m.\u001b[0m\u001b[0mtutorials\u001b[0m\u001b[0;34m.\u001b[0m\u001b[0mmnist\u001b[0m \u001b[0;32mimport\u001b[0m \u001b[0minput_data\u001b[0m\u001b[0;34m\u001b[0m\u001b[0;34m\u001b[0m\u001b[0m\n\u001b[0m\u001b[1;32m      4\u001b[0m \u001b[0;32mimport\u001b[0m \u001b[0mtensorflow\u001b[0m \u001b[0;32mas\u001b[0m \u001b[0mtf\u001b[0m\u001b[0;34m\u001b[0m\u001b[0;34m\u001b[0m\u001b[0m\n\u001b[1;32m      5\u001b[0m \u001b[0;32mimport\u001b[0m \u001b[0mnumpy\u001b[0m \u001b[0;32mas\u001b[0m \u001b[0mnp\u001b[0m\u001b[0;34m\u001b[0m\u001b[0;34m\u001b[0m\u001b[0m\n",
      "\u001b[0;31mModuleNotFoundError\u001b[0m: No module named 'tensorflow.examples.tutorials'"
     ]
    }
   ],
   "source": [
    "#import system things\n",
    "\n",
    "from tensorflow.examples.tutorials.mnist import input_data\n",
    "import tensorflow as tf\n",
    "import numpy as np\n",
    "import os\n",
    "\n",
    "#import helpers\n",
    "import inference\n",
    "import visualize\n",
    "\n",
    "# prepare data and tf.session\n",
    "mnist = input_data.read_data_sets('MNIST_data', one_hot=False)\n",
    "sess = tf.InteractiveSession()\n",
    "\n",
    "# setup siamese network\n",
    "siamese = inference.siamese();\n",
    "train_step = tf.train.GradientDescentOptimizer(0.01).minimize(siamese.loss)\n",
    "saver = tf.train.Saver()\n",
    "tf.initialize_all_variables().run()\n",
    "\n",
    "# if you just want to load a previously trainmodel?\n",
    "load = False\n",
    "model_ckpt = './model.meta'\n",
    "if os.path.isfile(model_ckpt):\n",
    "    input_var = None\n",
    "    while input_var not in ['yes', 'no']:\n",
    "        input_var = input(\"We found model files. Do you want to load it and continue training [yes/no]?\")\n",
    "    if input_var == 'yes':\n",
    "        load = True\n",
    "\n",
    "# start training\n",
    "if load: saver.restore(sess, './model')\n",
    "\n",
    "for step in range(50000):\n",
    "    batch_x1, batch_y1 = mnist.train.next_batch(128)\n",
    "    batch_x2, batch_y2 = mnist.train.next_batch(128)\n",
    "    batch_y = (batch_y1 == batch_y2).astype('float')\n",
    "\n",
    "    _, loss_v = sess.run([train_step, siamese.loss], feed_dict={\n",
    "                        siamese.x1: batch_x1,\n",
    "                        siamese.x2: batch_x2,\n",
    "                        siamese.y_: batch_y})\n",
    "\n",
    "    if np.isnan(loss_v):\n",
    "        print('Model diverged with loss = NaN')\n",
    "        quit()\n",
    "\n",
    "    if step % 10 == 0:\n",
    "        print ('step %d: loss %.3f' % (step, loss_v))\n",
    "\n",
    "    if step % 1000 == 0 and step > 0:\n",
    "        saver.save(sess, './model')\n",
    "        embed = siamese.o1.eval({siamese.x1: mnist.test.images})\n",
    "        embed.tofile('embed.txt')\n",
    "\n",
    "# visualize result\n",
    "x_test = mnist.test.images.reshape([-1, 28, 28])\n",
    "y_test = mnist.test.labels\n",
    "visualize.visualize(embed, x_test, y_test)"
   ]
  },
  {
   "cell_type": "code",
   "execution_count": null,
   "metadata": {},
   "outputs": [],
   "source": []
  }
 ],
 "metadata": {
  "kernelspec": {
   "display_name": "Python [conda env:d2l] *",
   "language": "python",
   "name": "conda-env-d2l-py"
  },
  "language_info": {
   "codemirror_mode": {
    "name": "ipython",
    "version": 3
   },
   "file_extension": ".py",
   "mimetype": "text/x-python",
   "name": "python",
   "nbconvert_exporter": "python",
   "pygments_lexer": "ipython3",
   "version": "3.7.7"
  }
 },
 "nbformat": 4,
 "nbformat_minor": 4
}
