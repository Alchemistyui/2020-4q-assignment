{
 "cells": [
  {
   "cell_type": "markdown",
   "metadata": {},
   "source": [
    "# Exercise 2-1 (Pytorch MNIST)"
   ]
  },
  {
   "cell_type": "code",
   "execution_count": 13,
   "metadata": {},
   "outputs": [],
   "source": [
    "import torch\n",
    "import torch.nn as nn\n",
    "import torch.optim as optim\n",
    "from torch.utils.data import DataLoader\n",
    "from torchvision import datasets, transforms\n",
    "import torch.nn.functional as F\n",
    "\n",
    "import numpy as np\n",
    "\n",
    "from matplotlib import pyplot as plt\n",
    "from IPython import display\n",
    "%matplotlib inline\n",
    "display.set_matplotlib_formats('svg')"
   ]
  },
  {
   "cell_type": "code",
   "execution_count": 14,
   "metadata": {},
   "outputs": [],
   "source": [
    "bs=64\n",
    "epochs=10\n",
    "num_classes = 10\n",
    "num_workers = 4\n",
    "lr=0.1\n",
    "\n",
    "def load_data(bs, num_workers):\n",
    "    trans = transforms.ToTensor()\n",
    "    train_data = datasets.MNIST(root='./data/', train=True, download=True, transform=trans)\n",
    "    test_data = datasets.MNIST(root='./data/', train=False, download=True, transform=trans)\n",
    "    \n",
    "    train_loader = DataLoader(dataset=train_data, batch_size=bs, num_workers=num_workers, shuffle=True)\n",
    "    test_loader = DataLoader(dataset=test_data, batch_size=bs, num_workers=num_workers, shuffle=True)\n",
    "    \n",
    "    return train_loader, test_loader\n",
    "\n",
    "class Net(nn.Module):\n",
    "\n",
    "    def __init__(self, num_classes=10):\n",
    "        super(Net, self).__init__()\n",
    "        self.convnet = nn.Sequential(\n",
    "            nn.Conv2d(1, 32, kernel_size=5, stride=1, padding=2),\n",
    "            nn.ReLU(),\n",
    "            nn.MaxPool2d(kernel_size=2,stride=2),\n",
    "            nn.Conv2d(32, 64, kernel_size=5, stride=1, padding=2),\n",
    "            nn.ReLU(),\n",
    "            nn.MaxPool2d(kernel_size=2,stride=2),\n",
    "\n",
    "        )\n",
    "        self.fc = nn.Sequential(\n",
    "            nn.Linear(3136, 7*7*64),\n",
    "            nn.Linear(3136, num_classes),\n",
    "\n",
    "        )\n",
    "\n",
    "    def forward(self,x):\n",
    "        x = self.convnet(x)\n",
    "        x = torch.flatten(x, 1)\n",
    "        x = self.fc(x)\n",
    "        output = F.log_softmax(x, dim=1)\n",
    "\n",
    "        return output\n",
    "    \n",
    "   "
   ]
  },
  {
   "cell_type": "code",
   "execution_count": 16,
   "metadata": {},
   "outputs": [],
   "source": [
    "def accuracy(y_hat, y):\n",
    "#     import pdb\n",
    "#     pdb.set_trace()\n",
    "    pred = (y == y_hat.argmax(dim=1)).float()\n",
    "    mean_acc = pred.mean().item()\n",
    "    \n",
    "    pred[pred <1] = -1\n",
    "    return pred.int()*(y+1), mean_acc\n",
    "\n",
    "def evaluate(net, loader):\n",
    "    accs = []\n",
    "    net.eval()\n",
    "    for idx, data in enumerate(loader):\n",
    "        img, label = data\n",
    "        output = net(img)\n",
    "        corr_label, mean_acc = accuracy(output, label)\n",
    "        accs.append(mean_acc)\n",
    "        \n",
    "    return np.mean(accs)"
   ]
  },
  {
   "cell_type": "code",
   "execution_count": 19,
   "metadata": {},
   "outputs": [
    {
     "name": "stdout",
     "output_type": "stream",
     "text": [
      "Net(\n",
      "  (convnet): Sequential(\n",
      "    (0): Conv2d(1, 32, kernel_size=(5, 5), stride=(1, 1), padding=(2, 2))\n",
      "    (1): ReLU()\n",
      "    (2): MaxPool2d(kernel_size=2, stride=2, padding=0, dilation=1, ceil_mode=False)\n",
      "    (3): Conv2d(32, 64, kernel_size=(5, 5), stride=(1, 1), padding=(2, 2))\n",
      "    (4): ReLU()\n",
      "    (5): MaxPool2d(kernel_size=2, stride=2, padding=0, dilation=1, ceil_mode=False)\n",
      "  )\n",
      "  (fc): Sequential(\n",
      "    (0): Linear(in_features=3136, out_features=3136, bias=True)\n",
      "    (1): Linear(in_features=3136, out_features=10, bias=True)\n",
      "  )\n",
      ")\n",
      "Epoch 0 train loss: 0.21605396816538755, train acc: 0.9327525319829424, test acc: 0.9647691082802548\n",
      "Acc per class: [0.9718048286341381, 0.9652921981607832, 0.9253105068815038, 0.9146958081878975, 0.9346114344402602, 0.9051835454713153, 0.9506590064210882, 0.942537909018356, 0.9049735088019142, 0.9053622457555892]\n",
      "Epoch 1 train loss: 0.05993121037848476, train acc: 0.9813432835820896, test acc: 0.9784036624203821\n",
      "Acc per class: [0.9900388316731387, 0.9894690002966479, 0.9795233299765022, 0.9773283314304355, 0.9808284833960972, 0.9780483305663161, 0.9873267995944576, 0.9837190742218676, 0.9726542471372415, 0.9731047234829383]\n",
      "Epoch 2 train loss: 0.04308620623552671, train acc: 0.9865571695095949, test acc: 0.9891520700636943\n",
      "Acc per class: [0.9951038325173054, 0.9916938593889054, 0.9850621013763008, 0.9854836078943077, 0.9888736733995207, 0.9843202361187973, 0.9913822237242311, 0.9853152434158021, 0.9801743291745001, 0.9773071104387292]\n",
      "Epoch 3 train loss: 0.034252258194392045, train acc: 0.9894556236673774, test acc: 0.9891520700636943\n",
      "Acc per class: [0.9951038325173054, 0.9940670424206467, 0.9897616649882511, 0.988582612950579, 0.9890448476549127, 0.9883785279468733, 0.9925650557620818, 0.9885075818036712, 0.9834216373269526, 0.9843671205244579]\n",
      "Epoch 4 train loss: 0.028307047438001567, train acc: 0.9912380063965884, test acc: 0.990843949044586\n",
      "Acc per class: [0.9949349991558332, 0.9949569860575497, 0.9922792883517959, 0.9897243516555211, 0.9910989387196165, 0.9905921416712784, 0.9947617438323758, 0.9902633679169992, 0.9868398564347974, 0.9863842662632375]\n",
      "Epoch 5 train loss: 0.023459582906792256, train acc: 0.9927705223880597, test acc: 0.9921377388535032\n",
      "Acc per class: [0.9964544994090833, 0.995550281815485, 0.9931184961396442, 0.9920078290654053, 0.9924683327627525, 0.9922523519645822, 0.994930719837783, 0.9926576217079011, 0.9892326098102888, 0.9887376029584805]\n",
      "Epoch 6 train loss: 0.019647092234640163, train acc: 0.994103144989339, test acc: 0.9917396496815286\n",
      "Acc per class: [0.9979739996623332, 0.9959952536339365, 0.9947969117153407, 0.9933126732996248, 0.9943512495720643, 0.9926212875853163, 0.9959445758702264, 0.9928172386272945, 0.9917962741411724, 0.9910909396537233]\n",
      "Epoch 7 train loss: 0.01712408479149101, train acc: 0.9944529584221748, test acc: 0.9906449044585988\n",
      "Acc per class: [0.9983116663852777, 0.995550281815485, 0.994629070157771, 0.9934757788289023, 0.9946935980828483, 0.9940970300682531, 0.9961135518756337, 0.9937749401436552, 0.9924799179627414, 0.9912590351319549]\n",
      "Epoch 8 train loss: 0.014497194716450336, train acc: 0.9953191631130064, test acc: 0.9911425159235668\n",
      "Acc per class: [0.9988181664696945, 0.9962919015129041, 0.9963074857334676, 0.995596150709509, 0.9952071208490243, 0.9944659656889873, 0.9962825278810409, 0.9937749401436552, 0.9943599384720561, 0.9919314170448815]\n",
      "Epoch 9 train loss: 0.011598906190921163, train acc: 0.9965684968017058, test acc: 0.9917396496815286\n",
      "Acc per class: [0.9984804997467499, 0.9977751409077426, 0.9973145350788856, 0.9972272060022834, 0.9955494693598083, 0.9961261759822911, 0.9981412639405205, 0.996488427773344, 0.995043582293625, 0.9932761808707345]\n"
     ]
    },
    {
     "ename": "ValueError",
     "evalue": "not enough values to unpack (expected 4, got 3)",
     "output_type": "error",
     "traceback": [
      "\u001b[0;31m---------------------------------------------------------------------------\u001b[0m",
      "\u001b[0;31mValueError\u001b[0m                                Traceback (most recent call last)",
      "\u001b[0;32m<ipython-input-19-10190052b95d>\u001b[0m in \u001b[0;36m<module>\u001b[0;34m\u001b[0m\n\u001b[1;32m     49\u001b[0m     \u001b[0;32mreturn\u001b[0m \u001b[0mtrain_loss\u001b[0m\u001b[0;34m,\u001b[0m \u001b[0mtrain_acc\u001b[0m\u001b[0;34m,\u001b[0m \u001b[0mtest_acc\u001b[0m\u001b[0;34m\u001b[0m\u001b[0;34m\u001b[0m\u001b[0m\n\u001b[1;32m     50\u001b[0m \u001b[0;34m\u001b[0m\u001b[0m\n\u001b[0;32m---> 51\u001b[0;31m \u001b[0mtrain_loss\u001b[0m\u001b[0;34m,\u001b[0m \u001b[0mtrain_acc\u001b[0m\u001b[0;34m,\u001b[0m \u001b[0mtest_acc\u001b[0m\u001b[0;34m,\u001b[0m \u001b[0mtest_acc\u001b[0m \u001b[0;34m=\u001b[0m \u001b[0mtrain\u001b[0m\u001b[0;34m(\u001b[0m\u001b[0mepochs\u001b[0m\u001b[0;34m,\u001b[0m \u001b[0mlr\u001b[0m\u001b[0;34m,\u001b[0m \u001b[0mbs\u001b[0m\u001b[0;34m,\u001b[0m \u001b[0mnum_classes\u001b[0m\u001b[0;34m,\u001b[0m \u001b[0mnum_workers\u001b[0m\u001b[0;34m)\u001b[0m\u001b[0;34m\u001b[0m\u001b[0;34m\u001b[0m\u001b[0m\n\u001b[0m",
      "\u001b[0;31mValueError\u001b[0m: not enough values to unpack (expected 4, got 3)"
     ]
    }
   ],
   "source": [
    "def train(epochs, lr, bs, num_classes, num_workers):\n",
    "    net=Net()\n",
    "    train_loader, test_loader = load_data(bs, num_workers)\n",
    "    print(net)\n",
    "    loss = nn.CrossEntropyLoss()\n",
    "#     loss = nn.NLLLoss()\n",
    "    optim = torch.optim.SGD(net.parameters(), lr = lr)\n",
    "    \n",
    "    train_loss, train_acc, test_acc, acc_per_cls = [], [], [], []\n",
    "    for epo in range(epochs):\n",
    "        epo_loss, epo_acc = [], []\n",
    "        sum_img = np.array([0] * num_classes)\n",
    "        correct_img = np.array([0] * num_classes)\n",
    "        net.train()\n",
    "        for idx, data in enumerate(train_loader):\n",
    "            img, label = data\n",
    "# because my Mac doesn't have GPU, I didn't write gpu version.\n",
    "#             import pdb\n",
    "#             pdb.set_trace()\n",
    "            output = net(img)\n",
    "            optim.zero_grad()\n",
    "            iter_loss = loss(output, label)\n",
    "            iter_loss.backward()\n",
    "            optim.step()\n",
    "#             import pdb\n",
    "#             pdb.set_trace()\n",
    "            corr_label, mean_acc = accuracy(output, label)\n",
    "            for i in label:\n",
    "                sum_img[i] += 1\n",
    "                \n",
    "            for i in corr_label:\n",
    "                if i >= 0:\n",
    "                    correct_img[i-1] += 1\n",
    "\n",
    "            epo_loss.append(iter_loss.item())\n",
    "            epo_acc.append(mean_acc)\n",
    "            \n",
    "        train_loss.append(np.mean(epo_loss))\n",
    "        train_acc.append(np.mean(epo_acc))\n",
    "        test_acc.append(evaluate(net, test_loader))\n",
    "        acc_per_cls.append(list(correct_img/sum_img))\n",
    "        \n",
    "#         import pdb\n",
    "#         pdb.set_trace()\n",
    "        \n",
    "        print(f'Epoch {epo} train loss: {train_loss[epo]}, train acc: {train_acc[epo]}, test acc: {test_acc[epo]}')\n",
    "        print(f'Acc per class: {acc_per_cls[epo]} \\n')\n",
    "\n",
    "    return train_loss, train_acc, test_acc, acc_per_cls\n",
    "\n",
    "train_loss, train_acc, test_acc, acc_per_cls = train(epochs, lr, bs, num_classes, num_workers)\n"
   ]
  },
  {
   "cell_type": "code",
   "execution_count": 31,
   "metadata": {},
   "outputs": [
    {
     "ename": "NameError",
     "evalue": "name 'train_loss' is not defined",
     "output_type": "error",
     "traceback": [
      "\u001b[0;31m---------------------------------------------------------------------------\u001b[0m",
      "\u001b[0;31mNameError\u001b[0m                                 Traceback (most recent call last)",
      "\u001b[0;32m<ipython-input-31-63e0244b43d9>\u001b[0m in \u001b[0;36m<module>\u001b[0;34m\u001b[0m\n\u001b[1;32m      7\u001b[0m     \u001b[0mplt\u001b[0m\u001b[0;34m.\u001b[0m\u001b[0mlegend\u001b[0m\u001b[0;34m(\u001b[0m\u001b[0;34m)\u001b[0m\u001b[0;34m\u001b[0m\u001b[0;34m\u001b[0m\u001b[0m\n\u001b[1;32m      8\u001b[0m     \u001b[0mplt\u001b[0m\u001b[0;34m.\u001b[0m\u001b[0mshow\u001b[0m\u001b[0;34m(\u001b[0m\u001b[0;34m)\u001b[0m\u001b[0;34m\u001b[0m\u001b[0;34m\u001b[0m\u001b[0m\n\u001b[0;32m----> 9\u001b[0;31m \u001b[0mvisual\u001b[0m\u001b[0;34m(\u001b[0m\u001b[0mtrain_loss\u001b[0m\u001b[0;34m,\u001b[0m \u001b[0mtrain_acc\u001b[0m\u001b[0;34m,\u001b[0m \u001b[0mtest_acc\u001b[0m\u001b[0;34m)\u001b[0m\u001b[0;34m\u001b[0m\u001b[0;34m\u001b[0m\u001b[0m\n\u001b[0m",
      "\u001b[0;31mNameError\u001b[0m: name 'train_loss' is not defined"
     ]
    }
   ],
   "source": [
    "def visual(train_loss, train_acc, test_acc):\n",
    "    x = range(len(train_loss))\n",
    "    plt.plot(x, train_loss, label='train_loss')\n",
    "    plt.plot(x, train_acc, label='train_acc')\n",
    "    plt.plot(x, test_acc, label='test_acc')\n",
    "    \n",
    "    plt.legend()\n",
    "    plt.show()\n",
    "visual(train_loss, train_acc, test_acc)"
   ]
  },
  {
   "cell_type": "markdown",
   "metadata": {},
   "source": [
    "# Exercise 2-2 (Tensorflow MNIST)"
   ]
  },
  {
   "cell_type": "code",
   "execution_count": null,
   "metadata": {},
   "outputs": [],
   "source": []
  },
  {
   "cell_type": "code",
   "execution_count": null,
   "metadata": {},
   "outputs": [],
   "source": []
  },
  {
   "cell_type": "code",
   "execution_count": null,
   "metadata": {},
   "outputs": [],
   "source": []
  },
  {
   "cell_type": "code",
   "execution_count": null,
   "metadata": {},
   "outputs": [],
   "source": []
  },
  {
   "cell_type": "code",
   "execution_count": null,
   "metadata": {},
   "outputs": [],
   "source": []
  }
 ],
 "metadata": {
  "kernelspec": {
   "display_name": "Python [conda env:d2l] *",
   "language": "python",
   "name": "conda-env-d2l-py"
  },
  "language_info": {
   "codemirror_mode": {
    "name": "ipython",
    "version": 3
   },
   "file_extension": ".py",
   "mimetype": "text/x-python",
   "name": "python",
   "nbconvert_exporter": "python",
   "pygments_lexer": "ipython3",
   "version": "3.7.7"
  }
 },
 "nbformat": 4,
 "nbformat_minor": 2
}
